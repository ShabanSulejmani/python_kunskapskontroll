{
 "cells": [
  {
   "metadata": {},
   "cell_type": "markdown",
   "source": [
    "### Fråga 1: Vad är skillnaden på en tuple och list i Python? Är den ena datatypen bättre än den andra?\n",
    "\n",
    "En tuple är en oföränderlig sekvens av element, medan en lista är en förändringsbar sekvens av element.\n",
    "Det innebär att när en tuple har skapats kan dess innehåll inte ändras, medan en lista kan ändras genom att lägga till, ta bort eller ändra element.\n",
    "Tuples används ofta för att lagra data som inte ska ändras, medan listor används för data som kan ändras.\n",
    "Det är inte nödvändigtvis så att den ena datatypen är bättre än den andra, utan de har olika användningsområden.\n",
    "Tuples är mer minnes- och prestandaeffektiva än listor, så om du har en stor mängd data som inte behöver ändras kan det vara bättre att använda en tuple.  \n",
    "Om du exempelvis lagrar en lista över studenter som kan ändras under terminen, skulle du använda en list. Men om du lagrar födelsedatum som aldrig ändras, passar en tuple."
   ],
   "id": "1228c900022636d2"
  },
  {
   "metadata": {},
   "cell_type": "code",
   "outputs": [],
   "execution_count": null,
   "source": [
    "# Exempel på tuple\n",
    "my_tuple = (1, 2, 3)\n",
    "\n",
    "# Exempel på lista\n",
    "my_list = [1, 2, 3]\n"
   ],
   "id": "680859b0c1e837f"
  },
  {
   "metadata": {},
   "cell_type": "markdown",
   "source": [
    "### Fråga 2: Vad är en funktion för något? Varför kan funktioner vara användbara?\n",
    "\n",
    "##### Förklaring:\n",
    "En funktion i Python är ett block av kod som utför en specifik uppgift och kan återanvändas. Du definierar den med def, och den kan ta in parametrar och returnera ett värde.\n",
    "\n",
    "##### Varför är funktioner användbara?\n",
    "1. **Återanvändbarhet**: Du kan använda samma funktion flera gånger utan att behöva skriva om koden.\n",
    "2. **Modularisering**: Du kan dela upp din kod i mindre, mer hanterbara delar.\n",
    "3. **Läslighet**: Funktioner gör koden mer organiserad och lättare att förstå.\n",
    "4. **Testbarhet**: Du kan enkelt testa en funktion isolerat för att säkerställa att den fungerar som den ska.\n"
   ],
   "id": "7f198e8e59b74cc0"
  },
  {
   "metadata": {
    "ExecuteTime": {
     "end_time": "2025-05-21T14:12:42.898537Z",
     "start_time": "2025-05-21T14:12:42.891784Z"
    }
   },
   "cell_type": "code",
   "source": [
    "# Exempel på en enkel funktion\n",
    "\n",
    "def addera(a, b):\n",
    "    return a + b\n",
    "\n",
    "resultat = addera(3, 4)  # resultat blir 7\n",
    "\n",
    "print(resultat)"
   ],
   "id": "89c8042d94cc678a",
   "outputs": [
    {
     "name": "stdout",
     "output_type": "stream",
     "text": [
      "7\n"
     ]
    }
   ],
   "execution_count": 4
  },
  {
   "metadata": {},
   "cell_type": "markdown",
   "source": [
    "### Fråga 3: Förklara vad nedanstående begrepp, kopplat till klasser, betyder: a) Instans, b) Attribut, c) Metod\n",
    "\n",
    "##### Förklaring:\n",
    "a) **Instans**: En instans är ett konkret exempel på en klass. När du skapar ett objekt från en klass, skapar du en instans av den klassen.\n",
    "Exempel: Om Car är en klass, är min_bil = Car() en instans av klassen.\n",
    "\n",
    "\n",
    "b) **Attribut**: Attribut är variabler som är kopplade till en klass och beskriver dess egenskaper. De kan vara både instansattribut (specifika för en instans) och klassattribut (delade mellan alla instanser av klassen).\n",
    "Exempel: min_bil.color = \"blå\" gör color till ett attribut.\n",
    "\n",
    "\n",
    "c) **Metod**: En metod är en funktion som är definierad inom en klass och kan utföras på instanser av den klassen. Metoder används för att manipulera instansens attribut eller utföra operationer relaterade till klassen.\n",
    "Exempel: min_bil.start() kan vara en metod som startar bilen.\n",
    "\n"
   ],
   "id": "c76a7065d1014b2"
  },
  {
   "metadata": {},
   "cell_type": "markdown",
   "source": [
    "### Fråga 4: Vad är Streamlit för något?\n",
    "##### Förklaring:\n",
    "\n",
    "Streamlit är ett Python-bibliotek som används för att snabbt skapa interaktiva webbapplikationer, särskilt för att visa data och visualiseringar. Du skriver Python-kod, och Streamlit omvandlar den till en app som körs i webbläsaren. Exempel:\n",
    "\n"
   ],
   "id": "46bb9a2f3e91aed0"
  },
  {
   "metadata": {},
   "cell_type": "code",
   "outputs": [],
   "execution_count": null,
   "source": [
    "import streamlit as st\n",
    "\n",
    "st.title(\"Min första app\")\n",
    "st.write(\"Detta är ett exempel på min första app\")"
   ],
   "id": "45a0a2ccf1e1f4bb"
  },
  {
   "metadata": {},
   "cell_type": "markdown",
   "source": "### Fråga 5: Skapa en klass BankAccount och testa den\n",
   "id": "78e444a610ba9eb6"
  },
  {
   "metadata": {
    "ExecuteTime": {
     "end_time": "2025-05-21T14:50:54.221963Z",
     "start_time": "2025-05-21T14:50:54.216251Z"
    }
   },
   "cell_type": "code",
   "source": [
    "class BankAccount:\n",
    "    def __init__(self,account_holder, balance=0):\n",
    "        self.account_holder = account_holder # Attribut för kontoinnehavare\n",
    "        self.balance = balance # Attribut för saldo\n",
    "        \n",
    "    def deposit (self,amount):\n",
    "        if amount > 0:    #Kontrollera insättning är positiv\n",
    "            self.balance += amount\n",
    "            print(f\"Insatt {amount}, nytt saldo {self.balance}\")\n",
    "        else:\n",
    "            print(\"Insättningen måste vara positiv\")\n",
    "    \n",
    "    def withdraw(self,amount):     \n",
    "        if amount <= self.balance:   #Kontroll om de finns tillräckligt med saldo.\n",
    "            self.balance -= amount\n",
    "            print(f\"Uttaget {amount}, nytt saldo {self.balance}\")\n",
    "        else:\n",
    "            print (\"To low balance\")\n",
    "                                   \n",
    "        "
   ],
   "id": "f7992da022938be4",
   "outputs": [],
   "execution_count": 1
  },
  {
   "metadata": {},
   "cell_type": "markdown",
   "source": [
    "##### Uppgift b) Testa klassen:\n",
    "##### Låt oss skapa en instans och testa den:"
   ],
   "id": "7401cbcd0be24ee4"
  },
  {
   "metadata": {
    "ExecuteTime": {
     "end_time": "2025-05-21T14:50:57.116566Z",
     "start_time": "2025-05-21T14:50:57.110203Z"
    }
   },
   "cell_type": "code",
   "source": [
    "# Skapa en instans\n",
    "konto = BankAccount(\"Anna\" ,1000)\n",
    "\n",
    "# Testa attributen\n",
    "print(f\"Kontoinnehavare: {konto.account_holder}\")\n",
    "print(f\"Startsaldo: {konto.balance}\")\n",
    "\n",
    "# Testa metoder\n",
    "konto.deposit(500)      # Borde ge saldo 1500\n",
    "konto.withdraw(2000)    # Borde ge \"Too low balance\"\n",
    "konto.withdraw(300)     # Borde ge saldo 1200"
   ],
   "id": "d913231fd93ec27a",
   "outputs": [
    {
     "name": "stdout",
     "output_type": "stream",
     "text": [
      "Kontoinnehavare: Anna\n",
      "Startsaldo: 1000\n",
      "Insatt 500, nytt saldo 1500\n",
      "To low balance\n",
      "Uttaget 300, nytt saldo 1200\n"
     ]
    }
   ],
   "execution_count": 2
  },
  {
   "metadata": {},
   "cell_type": "markdown",
   "source": [
    "### Fråga 6: Skapa en funktion som räknar vokaler i en sträng\n",
    "##### Lösning:\n",
    "Här är en funktion som räknar vokaler (A, E, I, O, U, Y, Å, Ä, Ö):"
   ],
   "id": "bd57900089816ed0"
  },
  {
   "metadata": {
    "ExecuteTime": {
     "end_time": "2025-05-21T14:53:23.331934Z",
     "start_time": "2025-05-21T14:53:23.322830Z"
    }
   },
   "cell_type": "code",
   "source": [
    "def vowel_checker(text):\n",
    "    vowels = \"aeiouyåäöAEIOUYÅÄÖ\"  # Lista över vokaler\n",
    "    count = 0\n",
    "    for char in text:              # Gå igenom varje tecken\n",
    "        if char in vowels:\n",
    "            count += 1\n",
    "    return count\n",
    "\n",
    "# Testa funktionen\n",
    "print(vowel_checker(\"hjärna\"))  # Ska returnera 2"
   ],
   "id": "27b7272d3533edbf",
   "outputs": [
    {
     "name": "stdout",
     "output_type": "stream",
     "text": [
      "2\n"
     ]
    }
   ],
   "execution_count": 3
  },
  {
   "metadata": {},
   "cell_type": "markdown",
   "source": [
    "### Fråga 7 Skapa en funktion som tar två listor som argument och returnerar de gemensamma\n",
    "### elementen i listorna i en ny lista.\n",
    "##### Exempelvis:\n",
    "common_elements([4, ’apple’, 10, ’hi’, 3], ([23 ’apple’, 5, 9, 3]) ska returnera svaret\n",
    "[’apple’, 3]. "
   ],
   "id": "f1d00cdaa9fb46bd"
  },
  {
   "metadata": {
    "ExecuteTime": {
     "end_time": "2025-05-21T15:16:43.711051Z",
     "start_time": "2025-05-21T15:16:43.700421Z"
    }
   },
   "cell_type": "code",
   "source": [
    "def common_elements(list1, list2): \n",
    "    return list(set(list1) & set(list2)) # set \n",
    "\n",
    "# Konverterar listorna till uppsättningar (set) för att automatiskt ta bort dubbletter\n",
    "# och snabbt hitta gemensamma element med skärningsoperationen\n",
    "list1 = [4, 'apple', 10, 'hi', 3]\n",
    "list2 = [23, 'apple', 5, 9, 3]\n",
    "resultat = common_elements(list1, list2)\n",
    "print(resultat)\n",
    "\n"
   ],
   "id": "75f99abea319814e",
   "outputs": [
    {
     "name": "stdout",
     "output_type": "stream",
     "text": [
      "['apple', 3]\n"
     ]
    }
   ],
   "execution_count": 5
  },
  {
   "metadata": {},
   "cell_type": "markdown",
   "source": [
    "### Fråga 8: Storkar och barnafödsel – ett samband?\n",
    "\n",
    "#### Många barn tror att de blev till genom att en stork kom och lämnade dem till deras föräldrar. För att undersöka det kan vi kolla på data och det finns en graf enligt figuren nedan. Det verkar alltså finnas ett samband mellan antalet storkar och barnafödsel!? Stämmer påståendet? Använd begreppet 'kausalitet' i ditt svar.\n",
    "\n",
    "##### Svar : \n",
    "\n",
    "Nej, påståendet stämmer inte i termer av kausalitet. Även om det kan finnas data som visar ett samband mellan antalet storkar och antalet barnafödslar (t.ex. i en graf), betyder det inte att storkarna orsakar barnafödslarna. Detta är ett klassiskt exempel på en skenbar korrelation, där två saker verkar hänga ihop, men det finns ingen direkt orsak-verkan-relation mellan dem.\n",
    "\n",
    "##### Vad är korrelation och kausalitet?\n",
    "\n",
    "**Korrelation:** När två variabler ändras tillsammans. Till exempel, om en graf visar att fler storkar i ett område sammanfaller med fler barnafödslar, så finns det en korrelation.\n",
    "**Kausalitet:** När den ena variabeln direkt orsakar den andra. För att kausalitet ska finnas måste det bevisas att storkarna faktiskt leder till barnafödslar, vilket inte är logiskt i det här fallet.\n",
    "\n",
    "\n",
    "##### Varför är det ingen kausalitet här? #####\n",
    "\n",
    "Det är osannolikt att storkar har någon direkt påverkan på antalet barn som föds.\n",
    "Ibland kan två variabler råka samvariera utan någon verklig koppling, särskilt om datamängden är liten.\n",
    "Grafen visar kanske en korrelation, men det finns ingen kausalitet. Storkar orsakar inte barnafödsel. Det är viktigt att skilja på dessa begrepp när man tolkar data, så att man inte drar fel slutsatser.\n",
    "\n"
   ],
   "id": "ab6d29b0ef2fbc1e"
  },
  {
   "metadata": {},
   "cell_type": "markdown",
   "source": [
    "### Fråga 9: Kim påstår att \"medelvärdet\" är ett bättre mått än \"medianvärdet\". Håller du med Kim?\n",
    "\n",
    "##### Svar:\n",
    "\n",
    "Nej, jag håller inte helt med Kim. Både medelvärdet och medianen är användbara, men vilket som är \"bättre\" beror på situationen.\n",
    "\n",
    "**Medelvärdet** räknas ut genom att addera alla värden och dela med antalet värden. Det fungerar bra när datan är symmetrisk och inte har extrema värden.\n",
    "**Medianen** är det mittersta värdet när datan är sorterad. Den är bättre när datan är skev eller har outliers (extrema värden). Till exempel, i inkomstdata kan några få miljonärer dra upp medelvärdet, medan medianen visar vad en \"vanlig\" person tjänar.\n",
    "\n",
    "##### Exempel:\n",
    "Om Spotify vill veta den genomsnittliga speltiden för låtar, men det finns några extremt långa låtar (t.ex. 20 minuter), kan medianen ge en bättre bild av vad de flesta låtar är, medan medelvärdet kan bli missvisande.\n",
    "\n",
    "##### Slutsats:\n",
    "Det beror på datan.Ibland är medelvärdet bättre, ibland medianen. Det är viktigt att välja rätt mått för att inte dra fel slutsatser.\n"
   ],
   "id": "3d082ff1f707ebd3"
  },
  {
   "metadata": {},
   "cell_type": "markdown",
   "source": [
    "### Fråga 10: Vad används cirkeldiagram för? Ge ett exempel för Spotify.\n",
    "\n",
    "##### Svar:\n",
    "\n",
    "Cirkeldiagram används för att visa hur en helhet är uppdelad i olika delar, ofta i procent. De är bra för att visa proportioner eller andelar.\n",
    "\n",
    "##### Exempel för Spotify:\n",
    "\n",
    "Spotify kan använda ett cirkeldiagram för att visa fördelningen av musikgenrer som användarna lyssnar på. Till exempel:\n",
    "- 30% pop\n",
    "- 25% rock\n",
    "- 20% hip-hop\n",
    "- 15% klassiskt\n",
    "- 10% övrigt\n",
    "\n",
    "Detta ger en snabb överblick över vilka genrer som är mest populära bland användarna.\n",
    "Cirkeldiagram fungerar bäst med få kategorier (max 5-6), annars blir det svårläst.\n"
   ],
   "id": "ad6fb98c93568525"
  },
  {
   "metadata": {},
   "cell_type": "markdown",
   "source": [
    "### Fråga 11: Vad används linjediagram för? Ge ett exempel för Spotify.\n",
    "\n",
    "##### Svar:\n",
    "Linjediagram används för att visa hur något förändras över tid. De är perfekta för att visa trender, som ökningar eller minskningar.\n",
    "\n",
    "##### Exempel för Spotify:\n",
    "Spotify kan använda ett linjediagram för att visa hur antalet månatliga aktiva användare har förändrats över åren. Till exempel:\n",
    "\n",
    "- 2018: 100 miljoner användare\n",
    "- 2019: 120 miljoner\n",
    "- 2020: 150 miljoner\n",
    "- 2021: 180 miljoner\n",
    "\n",
    "Detta visar tydligt hur användarbasen växer över tid. Linjediagram är bra när du har tidsdata eller sekventiella mätningar, som veckor, månader eller år."
   ],
   "id": "1abf16e8609935f3"
  },
  {
   "metadata": {},
   "cell_type": "markdown",
   "source": [
    "### Fråga 12: Vad används lådagram för?\n",
    "\n",
    "##### Svar:\n",
    "Lådagram (eller box plots) används för att visa hur data är fördelad. De visar medianen, kvartilerna (25% och 75% av datan), och eventuella outliers (extrema värden). Det är ett bra sätt att se spridningen i datan och jämföra olika grupper.\n",
    "\n",
    "##### Exempel för Spotify:\n",
    "\n",
    "Spotify kan använda lådagram för att jämföra längden på låtar i olika genrer. Till exempel:\n",
    "\n",
    "- Ett lådagram för poplåtar visar att de flesta är mellan 3 och 4 minuter.\n",
    "- Ett för klassisk musik visar att låtarna är längre, kanske 5 till 10 minuter, med några extrema på 20 minuter.\n",
    "\n",
    "Detta hjälper till att se skillnader i låtlängd mellan genrer och identifiera om det finns ovanligt långa eller korta låtar.\n",
    "Lådagram är särskilt användbara när du vill jämföra flera grupper eller se om det finns outliers i datan."
   ],
   "id": "9c97d62fb409767"
  }
 ],
 "metadata": {
  "kernelspec": {
   "display_name": "Python 3",
   "language": "python",
   "name": "python3"
  },
  "language_info": {
   "codemirror_mode": {
    "name": "ipython",
    "version": 2
   },
   "file_extension": ".py",
   "mimetype": "text/x-python",
   "name": "python",
   "nbconvert_exporter": "python",
   "pygments_lexer": "ipython2",
   "version": "2.7.6"
  }
 },
 "nbformat": 4,
 "nbformat_minor": 5
}
