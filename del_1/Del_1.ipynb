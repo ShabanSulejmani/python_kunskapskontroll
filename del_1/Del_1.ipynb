{
 "cells": [
  {
   "metadata": {},
   "cell_type": "markdown",
   "source": "",
   "id": "92f1a8d6bb95bf46"
  },
  {
   "metadata": {},
   "cell_type": "markdown",
   "source": [
    " # Fråga 1: Vad är skillnaden på en tuple och list i Python? Är den ena datatypen bättre än den andra?\n",
    "\n",
    "En tuple är en oföränderlig sekvens av element, medan en lista är en förändringsbar sekvens av element.\n",
    "Det innebär att när en tuple har skapats kan dess innehåll inte ändras, medan en lista kan ändras genom att lägga till, ta bort eller ändra element.\n",
    "Tuples används ofta för att lagra data som inte ska ändras, medan listor används för data som kan ändras.\n",
    "Det är inte nödvändigtvis så att den ena datatypen är bättre än den andra, utan de har olika användningsområden.\n",
    "Tuples är mer minnes- och prestandaeffektiva än listor, så om du har en stor mängd data som inte behöver ändras kan det vara bättre att använda en tuple.  \n",
    "Om du exempelvis lagrar en lista över studenter som kan ändras under terminen, skulle du använda en list. Men om du lagrar födelsedatum som aldrig ändras, passar en tuple."
   ],
   "id": "1228c900022636d2"
  },
  {
   "metadata": {},
   "cell_type": "code",
   "outputs": [],
   "execution_count": null,
   "source": [
    "# Exempel på tuple\n",
    "my_tuple = (1, 2, 3)\n",
    "\n",
    "# Exempel på lista\n",
    "my_list = [1, 2, 3]\n"
   ],
   "id": "680859b0c1e837f"
  },
  {
   "metadata": {},
   "cell_type": "markdown",
   "source": [
    "# Fråga 2: Vad är en funktion för något? Varför kan funktioner vara användbara?\n",
    "\n",
    "### Förklaring:\n",
    "En funktion i Python är ett block av kod som utför en specifik uppgift och kan återanvändas. Du definierar den med def, och den kan ta in parametrar och returnera ett värde.\n",
    "\n",
    "### Varför är funktioner användbara?\n",
    "1. **Återanvändbarhet**: Du kan använda samma funktion flera gånger utan att behöva skriva om koden.\n",
    "2. **Modularisering**: Du kan dela upp din kod i mindre, mer hanterbara delar.\n",
    "3. **Läslighet**: Funktioner gör koden mer organiserad och lättare att förstå.\n",
    "4. **Testbarhet**: Du kan enkelt testa en funktion isolerat för att säkerställa att den fungerar som den ska.\n"
   ],
   "id": "7f198e8e59b74cc0"
  },
  {
   "metadata": {
    "ExecuteTime": {
     "end_time": "2025-05-21T14:12:42.898537Z",
     "start_time": "2025-05-21T14:12:42.891784Z"
    }
   },
   "cell_type": "code",
   "source": [
    "# Exempel på en enkel funktion\n",
    "\n",
    "def addera(a, b):\n",
    "    return a + b\n",
    "\n",
    "resultat = addera(3, 4)  # resultat blir 7\n",
    "\n",
    "print(resultat)"
   ],
   "id": "89c8042d94cc678a",
   "outputs": [
    {
     "name": "stdout",
     "output_type": "stream",
     "text": [
      "7\n"
     ]
    }
   ],
   "execution_count": 4
  },
  {
   "metadata": {},
   "cell_type": "markdown",
   "source": "",
   "id": "c76a7065d1014b2"
  }
 ],
 "metadata": {
  "kernelspec": {
   "display_name": "Python 3",
   "language": "python",
   "name": "python3"
  },
  "language_info": {
   "codemirror_mode": {
    "name": "ipython",
    "version": 2
   },
   "file_extension": ".py",
   "mimetype": "text/x-python",
   "name": "python",
   "nbconvert_exporter": "python",
   "pygments_lexer": "ipython2",
   "version": "2.7.6"
  }
 },
 "nbformat": 4,
 "nbformat_minor": 5
}
