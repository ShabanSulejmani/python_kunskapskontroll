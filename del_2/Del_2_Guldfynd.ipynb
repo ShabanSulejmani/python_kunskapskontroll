{
 "cells": [
  {
   "metadata": {},
   "cell_type": "markdown",
   "source": "##### Importerar biblotek ",
   "id": "93ca63a96b4a92d3"
  },
  {
   "metadata": {
    "ExecuteTime": {
     "end_time": "2025-05-22T10:00:25.885042Z",
     "start_time": "2025-05-22T10:00:22.632093Z"
    }
   },
   "cell_type": "code",
   "source": [
    "import pandas as pd\n",
    "import seaborn as sn\n",
    "import matplotlib.pyplot as plt\n",
    "import streamlit as st\n",
    "import numpy as np\n",
    "from jedi.api.helpers import infer"
   ],
   "id": "d36011eaadcc41a5",
   "outputs": [],
   "execution_count": 7
  },
  {
   "metadata": {},
   "cell_type": "markdown",
   "source": " ##### Importerar csv filen och döper den till df samt visar information om datan",
   "id": "a598c36f9e6d9349"
  },
  {
   "metadata": {
    "ExecuteTime": {
     "end_time": "2025-05-22T10:00:40.714382Z",
     "start_time": "2025-05-22T10:00:40.659496Z"
    }
   },
   "cell_type": "code",
   "source": [
    "df = pd.read_csv(\"diamonds.csv\")\n",
    "\n",
    "print(df.info())"
   ],
   "id": "5fbce2e3bd9a6b85",
   "outputs": [
    {
     "name": "stdout",
     "output_type": "stream",
     "text": [
      "<class 'pandas.core.frame.DataFrame'>\n",
      "RangeIndex: 53940 entries, 0 to 53939\n",
      "Data columns (total 10 columns):\n",
      " #   Column   Non-Null Count  Dtype  \n",
      "---  ------   --------------  -----  \n",
      " 0   carat    53940 non-null  float64\n",
      " 1   cut      53940 non-null  object \n",
      " 2   color    53940 non-null  object \n",
      " 3   clarity  53940 non-null  object \n",
      " 4   depth    53940 non-null  float64\n",
      " 5   table    53940 non-null  float64\n",
      " 6   price    53940 non-null  int64  \n",
      " 7   x        53940 non-null  float64\n",
      " 8   y        53940 non-null  float64\n",
      " 9   z        53940 non-null  float64\n",
      "dtypes: float64(6), int64(1), object(3)\n",
      "memory usage: 4.1+ MB\n",
      "None\n"
     ]
    }
   ],
   "execution_count": 9
  },
  {
   "metadata": {},
   "cell_type": "markdown",
   "source": "#####  Visa de första raderna.Kontrollera saknade värden och datatyper",
   "id": "9160ea5c40464366"
  },
  {
   "metadata": {
    "ExecuteTime": {
     "end_time": "2025-05-22T10:02:09.558933Z",
     "start_time": "2025-05-22T10:02:09.542171Z"
    }
   },
   "cell_type": "code",
   "source": [
    "print(df.head())\n",
    "print(df.isnull().sum())"
   ],
   "id": "8505bafa07dcb29f",
   "outputs": [
    {
     "name": "stdout",
     "output_type": "stream",
     "text": [
      "   carat      cut color clarity  depth  table  price     x     y     z\n",
      "0   0.23    Ideal     E     SI2   61.5   55.0    326  3.95  3.98  2.43\n",
      "1   0.21  Premium     E     SI1   59.8   61.0    326  3.89  3.84  2.31\n",
      "2   0.23     Good     E     VS1   56.9   65.0    327  4.05  4.07  2.31\n",
      "3   0.29  Premium     I     VS2   62.4   58.0    334  4.20  4.23  2.63\n",
      "4   0.31     Good     J     SI2   63.3   58.0    335  4.34  4.35  2.75\n",
      "carat      0\n",
      "cut        0\n",
      "color      0\n",
      "clarity    0\n",
      "depth      0\n",
      "table      0\n",
      "price      0\n",
      "x          0\n",
      "y          0\n",
      "z          0\n",
      "dtype: int64\n"
     ]
    }
   ],
   "execution_count": 10
  },
  {
   "metadata": {},
   "cell_type": "markdown",
   "source": "##### Genomsnittligt pris per slipkvalitet",
   "id": "50b6eec990ed5259"
  },
  {
   "metadata": {
    "ExecuteTime": {
     "end_time": "2025-05-22T10:38:43.004950Z",
     "start_time": "2025-05-22T10:38:42.972405Z"
    }
   },
   "cell_type": "code",
   "source": [
    "avg_price_by_cut = df.groupby('cut')['price'].mean().reset_index()\n",
    "print(avg_price_by_cut)"
   ],
   "id": "287e555e4d871e8",
   "outputs": [
    {
     "name": "stdout",
     "output_type": "stream",
     "text": [
      "         cut        price\n",
      "0       Fair  4358.757764\n",
      "1       Good  3928.864452\n",
      "2      Ideal  3457.541970\n",
      "3    Premium  4584.257704\n",
      "4  Very Good  3981.759891\n"
     ]
    }
   ],
   "execution_count": 11
  },
  {
   "metadata": {},
   "cell_type": "markdown",
   "source": "##### Genomsnittligt pris per färg",
   "id": "169b248530f15289"
  },
  {
   "metadata": {
    "ExecuteTime": {
     "end_time": "2025-05-22T11:05:03.434920Z",
     "start_time": "2025-05-22T11:05:03.421069Z"
    }
   },
   "cell_type": "code",
   "source": [
    "avg_price_by_color = df.groupby('color')['price'].mean().reset_index()\n",
    "print(avg_price_by_color)"
   ],
   "id": "f084ecc93e9c662b",
   "outputs": [
    {
     "name": "stdout",
     "output_type": "stream",
     "text": [
      "  color        price\n",
      "0     D  3169.954096\n",
      "1     E  3076.752475\n",
      "2     F  3724.886397\n",
      "3     G  3999.135671\n",
      "4     H  4486.669196\n",
      "5     I  5091.874954\n",
      "6     J  5323.818020\n"
     ]
    }
   ],
   "execution_count": 12
  },
  {
   "metadata": {},
   "cell_type": "markdown",
   "source": "##### Genomsnittligt pris per klarhet",
   "id": "29516a7aa63f5250"
  },
  {
   "metadata": {
    "ExecuteTime": {
     "end_time": "2025-05-22T11:09:49.017511Z",
     "start_time": "2025-05-22T11:09:49.001291Z"
    }
   },
   "cell_type": "code",
   "source": [
    "avg_price_by_clarity = df.groupby('clarity')['price'].mean().reset_index()\n",
    "print(avg_price_by_clarity)"
   ],
   "id": "2ce27130860bdb90",
   "outputs": [
    {
     "name": "stdout",
     "output_type": "stream",
     "text": [
      "  clarity        price\n",
      "0      I1  3924.168691\n",
      "1      IF  2864.839106\n",
      "2     SI1  3996.001148\n",
      "3     SI2  5063.028606\n",
      "4     VS1  3839.455391\n",
      "5     VS2  3924.989395\n",
      "6    VVS1  2523.114637\n",
      "7    VVS2  3283.737071\n"
     ]
    }
   ],
   "execution_count": 13
  }
 ],
 "metadata": {
  "kernelspec": {
   "display_name": "Python 3",
   "language": "python",
   "name": "python3"
  },
  "language_info": {
   "codemirror_mode": {
    "name": "ipython",
    "version": 2
   },
   "file_extension": ".py",
   "mimetype": "text/x-python",
   "name": "python",
   "nbconvert_exporter": "python",
   "pygments_lexer": "ipython2",
   "version": "2.7.6"
  }
 },
 "nbformat": 4,
 "nbformat_minor": 5
}
