{
 "cells": [
  {
   "metadata": {},
   "cell_type": "markdown",
   "source": "##### Importerar biblotek ",
   "id": "93ca63a96b4a92d3"
  },
  {
   "metadata": {
    "ExecuteTime": {
     "end_time": "2025-05-21T16:31:38.857217Z",
     "start_time": "2025-05-21T16:31:38.850160Z"
    }
   },
   "cell_type": "code",
   "source": [
    "import pandas as pd\n",
    "import seaborn as sn\n",
    "import matplotlib.pyplot as plt\n",
    "import streamlit as st\n",
    "import numpy as np\n",
    "from jedi.api.helpers import infer"
   ],
   "id": "d36011eaadcc41a5",
   "outputs": [],
   "execution_count": 3
  },
  {
   "metadata": {},
   "cell_type": "markdown",
   "source": " ##### Importerar csv filen och döper den till df samt visar information om datan",
   "id": "a598c36f9e6d9349"
  },
  {
   "metadata": {
    "ExecuteTime": {
     "end_time": "2025-05-21T16:36:47.561846Z",
     "start_time": "2025-05-21T16:36:47.506410Z"
    }
   },
   "cell_type": "code",
   "source": [
    "df = pd.read_csv(\"diamonds.csv\")\n",
    "\n",
    "df.info()"
   ],
   "id": "5fbce2e3bd9a6b85",
   "outputs": [
    {
     "name": "stdout",
     "output_type": "stream",
     "text": [
      "<class 'pandas.core.frame.DataFrame'>\n",
      "RangeIndex: 53940 entries, 0 to 53939\n",
      "Data columns (total 10 columns):\n",
      " #   Column   Non-Null Count  Dtype  \n",
      "---  ------   --------------  -----  \n",
      " 0   carat    53940 non-null  float64\n",
      " 1   cut      53940 non-null  object \n",
      " 2   color    53940 non-null  object \n",
      " 3   clarity  53940 non-null  object \n",
      " 4   depth    53940 non-null  float64\n",
      " 5   table    53940 non-null  float64\n",
      " 6   price    53940 non-null  int64  \n",
      " 7   x        53940 non-null  float64\n",
      " 8   y        53940 non-null  float64\n",
      " 9   z        53940 non-null  float64\n",
      "dtypes: float64(6), int64(1), object(3)\n",
      "memory usage: 4.1+ MB\n"
     ]
    }
   ],
   "execution_count": 9
  }
 ],
 "metadata": {
  "kernelspec": {
   "display_name": "Python 3",
   "language": "python",
   "name": "python3"
  },
  "language_info": {
   "codemirror_mode": {
    "name": "ipython",
    "version": 2
   },
   "file_extension": ".py",
   "mimetype": "text/x-python",
   "name": "python",
   "nbconvert_exporter": "python",
   "pygments_lexer": "ipython2",
   "version": "2.7.6"
  }
 },
 "nbformat": 4,
 "nbformat_minor": 5
}
